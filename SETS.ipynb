{
 "cells": [
  {
   "cell_type": "markdown",
   "metadata": {},
   "source": [
    "* Set is an UNORDERED collection of items.\n",
    "* Every element is unique in Sets.\n",
    "* A set is mutable we can add or remove elements from it.\n",
    "* Sets can be used to perform operations like union , intersection ,symmetric difference."
   ]
  },
  {
   "cell_type": "markdown",
   "metadata": {},
   "source": [
    "# 1.) Set Creation"
   ]
  },
  {
   "cell_type": "code",
   "execution_count": 16,
   "metadata": {},
   "outputs": [
    {
     "name": "stdout",
     "output_type": "stream",
     "text": [
      "{1, 2, 3}\n",
      "<class 'set'>\n",
      "{1, 2, 3, 4, 5, 6}\n",
      "{1, 2, 3, 'aman'}\n"
     ]
    }
   ],
   "source": [
    "\n",
    "\n",
    "#set of integers\n",
    "s = {1,2,3}\n",
    "print(s)\n",
    "print(type(s))\n",
    "\n",
    "#set doesn't allow duplicates ,it takes only first instance\n",
    "t ={1,2,3,4,5,5,1,5,6,2,3}\n",
    "print(t)\n",
    "\n",
    "\n",
    "#making a set from the list\n",
    "q = set([1,2,3,'aman'])\n",
    "print(q)"
   ]
  },
  {
   "cell_type": "code",
   "execution_count": 37,
   "metadata": {},
   "outputs": [
    {
     "ename": "TypeError",
     "evalue": "'set' object is not subscriptable",
     "output_type": "error",
     "traceback": [
      "\u001b[1;31m---------------------------------------------------------------------------\u001b[0m",
      "\u001b[1;31mTypeError\u001b[0m                                 Traceback (most recent call last)",
      "\u001b[1;32m<ipython-input-37-8162fd32332b>\u001b[0m in \u001b[0;36m<module>\u001b[1;34m\u001b[0m\n\u001b[0;32m      1\u001b[0m \u001b[1;31m# Sets cannot be acessed by indexing\u001b[0m\u001b[1;33m\u001b[0m\u001b[1;33m\u001b[0m\u001b[1;33m\u001b[0m\u001b[0m\n\u001b[0;32m      2\u001b[0m \u001b[0ms\u001b[0m \u001b[1;33m=\u001b[0m \u001b[1;33m{\u001b[0m\u001b[1;36m1\u001b[0m\u001b[1;33m,\u001b[0m\u001b[1;36m2\u001b[0m\u001b[1;33m}\u001b[0m\u001b[1;33m\u001b[0m\u001b[1;33m\u001b[0m\u001b[0m\n\u001b[1;32m----> 3\u001b[1;33m \u001b[0mprint\u001b[0m\u001b[1;33m(\u001b[0m\u001b[0ms\u001b[0m\u001b[1;33m[\u001b[0m\u001b[1;36m1\u001b[0m\u001b[1;33m]\u001b[0m\u001b[1;33m)\u001b[0m\u001b[1;33m\u001b[0m\u001b[1;33m\u001b[0m\u001b[0m\n\u001b[0m",
      "\u001b[1;31mTypeError\u001b[0m: 'set' object is not subscriptable"
     ]
    }
   ],
   "source": [
    "# Sets cannot be acessed by indexing\n",
    "s = {1,2}\n",
    "print(s[1])"
   ]
  },
  {
   "cell_type": "markdown",
   "metadata": {},
   "source": [
    "# 2.)Adding in sets"
   ]
  },
  {
   "cell_type": "code",
   "execution_count": 28,
   "metadata": {},
   "outputs": [
    {
     "name": "stdout",
     "output_type": "stream",
     "text": [
      "{1, 2, 3}\n",
      "{1, 2, 3, 5, 6}\n",
      "{1, 2, 3, 100, 5, 6, 8, 9, 10, 200}\n"
     ]
    }
   ],
   "source": [
    "\n",
    "s = {1,2}\n",
    "s.add(3)\n",
    "print(s)\n",
    "\n",
    "#updating the set\n",
    "s.update([5,6,1])\n",
    "print(s)\n",
    "\n",
    "#adding list and set\n",
    "s.update([8,9,10],{100,200})\n",
    "print(s)"
   ]
  },
  {
   "cell_type": "markdown",
   "metadata": {},
   "source": [
    "# 3.) Removing Elements from sets"
   ]
  },
  {
   "cell_type": "code",
   "execution_count": 33,
   "metadata": {},
   "outputs": [
    {
     "name": "stdout",
     "output_type": "stream",
     "text": [
      "{1, 2, 3, 4, 5, 6, 7}\n",
      "{1, 2, 3, 5, 6, 7}\n",
      "{1, 3, 5, 6, 7}\n",
      "{1, 3, 5, 6, 7}\n"
     ]
    },
    {
     "ename": "KeyError",
     "evalue": "100",
     "output_type": "error",
     "traceback": [
      "\u001b[1;31m---------------------------------------------------------------------------\u001b[0m",
      "\u001b[1;31mKeyError\u001b[0m                                  Traceback (most recent call last)",
      "\u001b[1;32m<ipython-input-33-9561ad0d7ad3>\u001b[0m in \u001b[0;36m<module>\u001b[1;34m\u001b[0m\n\u001b[0;32m     11\u001b[0m \u001b[0ms\u001b[0m\u001b[1;33m.\u001b[0m\u001b[0mdiscard\u001b[0m\u001b[1;33m(\u001b[0m\u001b[1;36m100\u001b[0m\u001b[1;33m)\u001b[0m\u001b[1;31m#It will notgive the error\u001b[0m\u001b[1;33m\u001b[0m\u001b[1;33m\u001b[0m\u001b[0m\n\u001b[0;32m     12\u001b[0m \u001b[0mprint\u001b[0m\u001b[1;33m(\u001b[0m\u001b[0ms\u001b[0m\u001b[1;33m)\u001b[0m\u001b[1;33m\u001b[0m\u001b[1;33m\u001b[0m\u001b[0m\n\u001b[1;32m---> 13\u001b[1;33m \u001b[0ms\u001b[0m\u001b[1;33m.\u001b[0m\u001b[0mremove\u001b[0m\u001b[1;33m(\u001b[0m\u001b[1;36m100\u001b[0m\u001b[1;33m)\u001b[0m \u001b[1;31m#It will give ERROR\u001b[0m\u001b[1;33m\u001b[0m\u001b[1;33m\u001b[0m\u001b[0m\n\u001b[0m\u001b[0;32m     14\u001b[0m \u001b[1;33m\u001b[0m\u001b[0m\n\u001b[0;32m     15\u001b[0m \u001b[1;33m\u001b[0m\u001b[0m\n",
      "\u001b[1;31mKeyError\u001b[0m: 100"
     ]
    }
   ],
   "source": [
    "#Remove elemets from set with the help of remove and discard\n",
    "s = {1,2,3,4,5,6,7}\n",
    "print(s)\n",
    "\n",
    "s.discard(4)# 4 is removed from the set\n",
    "print(s)\n",
    "\n",
    "s.remove(2)\n",
    "print(s)\n",
    "\n",
    "s.discard(100)#It will notgive the error\n",
    "print(s)\n",
    "s.remove(100) #It will give ERROR\n",
    "\n",
    "\n"
   ]
  },
  {
   "cell_type": "code",
   "execution_count": 36,
   "metadata": {},
   "outputs": [
    {
     "name": "stdout",
     "output_type": "stream",
     "text": [
      "{2, 3, 4, 5}\n",
      "set()\n"
     ]
    }
   ],
   "source": [
    "#pop used to remove a random element from the set\n",
    "\n",
    "s = {1,2,3,4,5}\n",
    "s.pop()#remove the random element\n",
    "print(s)\n",
    "\n",
    "s.clear()#remove all elements from the set\n",
    "print(s)"
   ]
  },
  {
   "cell_type": "markdown",
   "metadata": {},
   "source": [
    "# 4.)SET OPERATIONS"
   ]
  },
  {
   "cell_type": "code",
   "execution_count": 55,
   "metadata": {},
   "outputs": [
    {
     "name": "stdout",
     "output_type": "stream",
     "text": [
      "The union of above two sets are: {1, 2, 3, 4, 5, 6, 7, 8, 9, 10}\n",
      "The union of above two sets are: {1, 2, 3, 4, 5, 6, 7, 8, 9, 10}\n",
      "The intersection of above two sets are: {1}\n",
      "The intersection of above two sets are: {1}\n",
      "{2, 3, 4, 5, 6}\n",
      "{2, 3, 4, 5, 6}\n",
      "The symmetric difference is:  {2, 3, 4, 5, 6, 7, 8, 9, 10}\n",
      "The symmetric difference is:  {2, 3, 4, 5, 6, 7, 8, 9, 10}\n",
      "set x is subset of y ? False\n",
      "set y is subset of x ? True\n"
     ]
    }
   ],
   "source": [
    "set1 = {1,2,3,4,5,6}\n",
    "set2 = {7,9,1,8,10}\n",
    "\n",
    "#UNION of two sets\n",
    "print(\"The union of above two sets are:\",set1.union(set2))\n",
    "\n",
    "print(\"The union of above two sets are:\",set1 | set2)\n",
    "\n",
    "#INTERSECTION \n",
    "print(\"The intersection of above two sets are:\",set1.intersection(set2))\n",
    "\n",
    "print(\"The intersection of above two sets are:\",set1 & set2)\n",
    "\n",
    "#SET DIFFERENCE\n",
    "print(set1.difference(set2))\n",
    "\n",
    "print(set1 - set2)\n",
    "\n",
    "#Symmetric Difference\n",
    "\"\"\"Symmetric difference: set of elements that are in both but set1 and set2 #except those are common in both\"\"\"\n",
    "print(\"The symmetric difference is: \",set1 ^ set2)\n",
    "print(\"The symmetric difference is: \",set1.symmetric_difference(set2))\n",
    "\n",
    "\n",
    "#is subset\n",
    "x = {'a','b','c','d','e'}\n",
    "y = {'c','e'}\n",
    "print(\"set x is subset of y ?\",x.issubset(y))\n",
    "print(\"set y is subset of x ?\",y.issubset(x))"
   ]
  },
  {
   "cell_type": "markdown",
   "metadata": {},
   "source": [
    "# 5.)Frozen sets\n",
    "Frozen sets has the characterisitics of sets but we can't change it once it is assigned,Tuple are **immutable** lists similarly Frozen sets are the **immutable** sets."
   ]
  },
  {
   "cell_type": "code",
   "execution_count": 61,
   "metadata": {},
   "outputs": [
    {
     "name": "stdout",
     "output_type": "stream",
     "text": [
      "frozenset({1, 2, 3, 4, 5, 6})\n"
     ]
    },
    {
     "ename": "AttributeError",
     "evalue": "'frozenset' object has no attribute 'add'",
     "output_type": "error",
     "traceback": [
      "\u001b[1;31m---------------------------------------------------------------------------\u001b[0m",
      "\u001b[1;31mAttributeError\u001b[0m                            Traceback (most recent call last)",
      "\u001b[1;32m<ipython-input-61-f6b8c3737059>\u001b[0m in \u001b[0;36m<module>\u001b[1;34m\u001b[0m\n\u001b[0;32m      1\u001b[0m \u001b[0mset1\u001b[0m \u001b[1;33m=\u001b[0m \u001b[0mfrozenset\u001b[0m\u001b[1;33m(\u001b[0m\u001b[1;33m[\u001b[0m\u001b[1;36m1\u001b[0m\u001b[1;33m,\u001b[0m\u001b[1;36m2\u001b[0m\u001b[1;33m,\u001b[0m\u001b[1;36m3\u001b[0m\u001b[1;33m,\u001b[0m\u001b[1;36m4\u001b[0m\u001b[1;33m,\u001b[0m\u001b[1;36m5\u001b[0m\u001b[1;33m,\u001b[0m\u001b[1;36m6\u001b[0m\u001b[1;33m]\u001b[0m\u001b[1;33m)\u001b[0m\u001b[1;33m\u001b[0m\u001b[1;33m\u001b[0m\u001b[0m\n\u001b[0;32m      2\u001b[0m \u001b[0mprint\u001b[0m\u001b[1;33m(\u001b[0m\u001b[0mset1\u001b[0m\u001b[1;33m)\u001b[0m\u001b[1;33m\u001b[0m\u001b[1;33m\u001b[0m\u001b[0m\n\u001b[1;32m----> 3\u001b[1;33m \u001b[0mset1\u001b[0m\u001b[1;33m.\u001b[0m\u001b[0madd\u001b[0m\u001b[1;33m(\u001b[0m\u001b[1;36m3\u001b[0m\u001b[1;33m)\u001b[0m\u001b[1;31m#It will gives us error\u001b[0m\u001b[1;33m\u001b[0m\u001b[1;33m\u001b[0m\u001b[0m\n\u001b[0m",
      "\u001b[1;31mAttributeError\u001b[0m: 'frozenset' object has no attribute 'add'"
     ]
    }
   ],
   "source": [
    "set1 = frozenset([1,2,3,4,5,6])\n",
    "print(set1)\n",
    "\n",
    "set1.add(3)#It will gives us error"
   ]
  }
 ],
 "metadata": {
  "kernelspec": {
   "display_name": "Python 3",
   "language": "python",
   "name": "python3"
  },
  "language_info": {
   "codemirror_mode": {
    "name": "ipython",
    "version": 3
   },
   "file_extension": ".py",
   "mimetype": "text/x-python",
   "name": "python",
   "nbconvert_exporter": "python",
   "pygments_lexer": "ipython3",
   "version": "3.8.3"
  }
 },
 "nbformat": 4,
 "nbformat_minor": 4
}
