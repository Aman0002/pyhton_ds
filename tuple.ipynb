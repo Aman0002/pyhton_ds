{
 "cells": [
  {
   "cell_type": "code",
   "execution_count": 7,
   "metadata": {},
   "outputs": [
    {
     "name": "stdout",
     "output_type": "stream",
     "text": [
      "(1, 2, 3)\n",
      "(1, 'aman', 'kumar', 24)\n",
      "(1, (1, 2, 3, 4, 'Shaktimaan'), [1, 'aman', 'kumar', 24])\n"
     ]
    }
   ],
   "source": [
    "##A tuple is similar to the list \n",
    "##Tuples are IMMUTABLE DATASTRUCTURES whereas Lists are MUTABLE DATASTRUCTURES\n",
    "\n",
    "#TUPLE CREATION\n",
    "#empty tuple\n",
    "t = ()\n",
    "\n",
    "#tuple having integers\n",
    "t = (1,2,3)\n",
    "print(t)\n",
    "\n",
    "#tuple having mixed datatypes\n",
    "t = (1, 'aman', 'kumar',24)\n",
    "print(t)\n",
    "\n",
    "#nested tuple\n",
    "\n",
    "t= (1,(1,2,3,4,'Shaktimaan'),[1, 'aman', 'kumar',24])\n",
    "print(t)"
   ]
  },
  {
   "cell_type": "code",
   "execution_count": 14,
   "metadata": {},
   "outputs": [
    {
     "name": "stdout",
     "output_type": "stream",
     "text": [
      "('aman', 'prabhat', 'vivek', 'sneha', 'neha')\n",
      "aman\n",
      "('aman', 'prabhat', 'vivek', 'sneha')\n",
      "neha\n"
     ]
    }
   ],
   "source": [
    "#Acessing Elements in the tuple\n",
    "\n",
    "t = ('aman','prabhat','vivek','sneha','neha')\n",
    "\n",
    "#Printing whole tuple\n",
    "print(t)\n",
    "\n",
    "#printing 0th index\n",
    "print(t[0])\n",
    "\n",
    "#printing from 0th to 4th index\n",
    "print(t[0:4])\n",
    "\n",
    "#printing last element\n",
    "print(t[-1])\n"
   ]
  },
  {
   "cell_type": "code",
   "execution_count": 17,
   "metadata": {},
   "outputs": [
    {
     "name": "stdout",
     "output_type": "stream",
     "text": [
      "(1, 2, 3, 4, (7, 8, 9, 10))\n"
     ]
    },
    {
     "ename": "TypeError",
     "evalue": "'tuple' object does not support item assignment",
     "output_type": "error",
     "traceback": [
      "\u001b[1;31m---------------------------------------------------------------------------\u001b[0m",
      "\u001b[1;31mTypeError\u001b[0m                                 Traceback (most recent call last)",
      "\u001b[1;32m<ipython-input-17-0a888706421a>\u001b[0m in \u001b[0;36m<module>\u001b[1;34m\u001b[0m\n\u001b[0;32m      4\u001b[0m \u001b[1;33m\u001b[0m\u001b[0m\n\u001b[0;32m      5\u001b[0m \u001b[1;31m#Let us try to change it's 2nd index to some other value\u001b[0m\u001b[1;33m\u001b[0m\u001b[1;33m\u001b[0m\u001b[1;33m\u001b[0m\u001b[0m\n\u001b[1;32m----> 6\u001b[1;33m \u001b[0mt\u001b[0m\u001b[1;33m[\u001b[0m\u001b[1;36m2\u001b[0m\u001b[1;33m]\u001b[0m\u001b[1;33m=\u001b[0m\u001b[1;36m100\u001b[0m\u001b[1;33m\u001b[0m\u001b[1;33m\u001b[0m\u001b[0m\n\u001b[0m\u001b[0;32m      7\u001b[0m \u001b[1;33m\u001b[0m\u001b[0m\n\u001b[0;32m      8\u001b[0m \u001b[0mprint\u001b[0m\u001b[1;33m(\u001b[0m\u001b[0mt\u001b[0m\u001b[1;33m)\u001b[0m\u001b[1;33m\u001b[0m\u001b[1;33m\u001b[0m\u001b[0m\n",
      "\u001b[1;31mTypeError\u001b[0m: 'tuple' object does not support item assignment"
     ]
    }
   ],
   "source": [
    "#Changing a Tuple\n",
    "t = (1,2,3,4,(7,8,9,10))\n",
    "print(t)\n",
    "\n",
    "#Let us try to change it's 2nd index to some other value\n",
    "#Tuples are immutable hence error will arise\n",
    "t[2]=100\n",
    "\n",
    "print(t)"
   ]
  },
  {
   "cell_type": "code",
   "execution_count": 21,
   "metadata": {},
   "outputs": [],
   "source": [
    "#TUPLE DELETION\n",
    "\n",
    "#We cannot change individual element in the tuple \n",
    "#hence we cannot delete the individual element from the tuple\n",
    "#We can only delete the whole tuple\n",
    "t = (1,2,3,4,5)\n",
    "#delete the entire tuple\n",
    "del t\n"
   ]
  },
  {
   "cell_type": "code",
   "execution_count": 28,
   "metadata": {},
   "outputs": [
    {
     "name": "stdout",
     "output_type": "stream",
     "text": [
      "9\n",
      "[-6, 1, 3, 14, 18, 21, 25, 70, 90]\n",
      "90\n",
      "-6\n",
      "236\n"
     ]
    }
   ],
   "source": [
    "#BUILT IN FUNCTION\n",
    "\n",
    "t = (1,21,3,14,25,-6,70,18,90)\n",
    "#length of the tuple\n",
    "print (len(t))\n",
    "\n",
    "#sort the tuple\n",
    "new_t = sorted(t)#takes element in the tuple and return the sorted list  \n",
    "print(new_t)#doesn't sort the tuple itself\n",
    "\n",
    "#max elemnt in the tuple\n",
    "print(max(t))\n",
    "#min elemnt in the tuple\n",
    "print(min(t))\n",
    "#sum of  elemnt in the tuple\n",
    "print(sum(t))"
   ]
  },
  {
   "cell_type": "code",
   "execution_count": null,
   "metadata": {},
   "outputs": [],
   "source": []
  }
 ],
 "metadata": {
  "kernelspec": {
   "display_name": "Python 3",
   "language": "python",
   "name": "python3"
  },
  "language_info": {
   "codemirror_mode": {
    "name": "ipython",
    "version": 3
   },
   "file_extension": ".py",
   "mimetype": "text/x-python",
   "name": "python",
   "nbconvert_exporter": "python",
   "pygments_lexer": "ipython3",
   "version": "3.8.3"
  }
 },
 "nbformat": 4,
 "nbformat_minor": 4
}
